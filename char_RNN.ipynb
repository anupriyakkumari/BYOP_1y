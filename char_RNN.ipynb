{
  "nbformat": 4,
  "nbformat_minor": 0,
  "metadata": {
    "colab": {
      "provenance": [],
      "authorship_tag": "ABX9TyMTfmwxs4v1F9nDz05euSKa",
      "include_colab_link": true
    },
    "kernelspec": {
      "name": "python3",
      "display_name": "Python 3"
    },
    "language_info": {
      "name": "python"
    }
  },
  "cells": [
    {
      "cell_type": "markdown",
      "metadata": {
        "id": "view-in-github",
        "colab_type": "text"
      },
      "source": [
        "<a href=\"https://colab.research.google.com/github/ReallyJaegar/CPbuddy/blob/main/char_RNN.ipynb\" target=\"_parent\"><img src=\"https://colab.research.google.com/assets/colab-badge.svg\" alt=\"Open In Colab\"/></a>"
      ]
    },
    {
      "cell_type": "code",
      "execution_count": null,
      "metadata": {
        "id": "wCwoG6Hq5O9Y"
      },
      "outputs": [],
      "source": [
        "import tensorflow as tf"
      ]
    },
    {
      "cell_type": "markdown",
      "source": [
        "scrapping data"
      ],
      "metadata": {
        "id": "i9rjpSxxCLof"
      }
    },
    {
      "cell_type": "code",
      "source": [
        "from bs4 import BeautifulSoup\n",
        "from urllib.request import urlopen\n",
        "import os"
      ],
      "metadata": {
        "id": "It1aG8pQ64Cb"
      },
      "execution_count": null,
      "outputs": []
    },
    {
      "cell_type": "code",
      "source": [
        "handle = input(\"Type Your Handle \")"
      ],
      "metadata": {
        "colab": {
          "base_uri": "https://localhost:8080/"
        },
        "id": "qJHN2gKX9V6i",
        "outputId": "2e72e442-ab36-4e23-de7b-be41c6c423e0"
      },
      "execution_count": null,
      "outputs": [
        {
          "name": "stdout",
          "output_type": "stream",
          "text": [
            "Type Your Handle tourist\n"
          ]
        }
      ]
    },
    {
      "cell_type": "code",
      "source": [
        "for i in range (1,3):\n",
        "    # print('grabbing data')\n",
        "    gen_url='https://codeforces.com/submissions/'+handle+'/page/'+str(i)\n",
        "#     print(gen_url)\n",
        "    r=urlopen(gen_url)\n",
        "#     print('done')"
      ],
      "metadata": {
        "id": "vy9qgqk69ZrT"
      },
      "execution_count": null,
      "outputs": []
    },
    {
      "cell_type": "code",
      "source": [
        "problem_id=[]\n",
        "no_name=[]\n",
        "soup=BeautifulSoup(r)\n",
        "co=soup.find_all('td')\n",
        "\n",
        "for row in range(1,len(co)):\n",
        "    if len(co[row].attrs)==4:\n",
        "        if len(co[row].span.attrs)==5:\n",
        "            if co[row].span.attrs['submissionverdict'] == 'OK':\n",
        "                problem_id.append(co[row].span.attrs['submissionid'])\n",
        "                no_name.append(row)\n",
        "\n",
        "\n",
        "contest_id = []\n",
        "for j in range(0,len(no_name)):\n",
        "    query = no_name[j]\n",
        "    contest_id.append(co[query-2].a.attrs['href'].split('/')[2])                "
      ],
      "metadata": {
        "id": "z03j33sJ9ZuQ"
      },
      "execution_count": null,
      "outputs": []
    },
    {
      "cell_type": "code",
      "source": [
        "for j in range(0, len(contest_id)):\n",
        "    url = 'http://codeforces.com/contest/'+contest_id[j]+'/submission/'+problem_id[j]\n",
        "    r =urlopen(url)\n",
        "    soup = BeautifulSoup(r)\n",
        "    var = soup.find_all('td')\n",
        "    problem_name = var[2].a['href'].split('/')[4]\n",
        "#     print(var[2].a['href'].split('/')[4])\n",
        "#     print('getting code '+contest_id[j]+'-'+problem_name)\n",
        "    \n",
        "    co=soup.find_all('div')\n",
        "    target=open('collect.txt','a')\n",
        "    \n",
        "    for row in co[3].find_all('pre',attrs={\"class\" : \"program-source\"}):\n",
        "        target.write(row.text+'\\n\\n')\n",
        "        \n",
        "#     print('got code'+contest_id[j]+'-'+problem_name)\n",
        "    target.close()"
      ],
      "metadata": {
        "id": "VYS8Kenz9ZwA"
      },
      "execution_count": null,
      "outputs": []
    },
    {
      "cell_type": "code",
      "source": [
        "f=open('collect.txt')\n",
        "Collection=f.read()"
      ],
      "metadata": {
        "id": "h79Eby9m9ZyG"
      },
      "execution_count": null,
      "outputs": []
    },
    {
      "cell_type": "markdown",
      "source": [
        "text-encoding using character level encoding instead of word (i was stuck here for so many days, as i was using modules which allows word level NLP)"
      ],
      "metadata": {
        "id": "dk7SSUiGCej_"
      }
    },
    {
      "cell_type": "code",
      "source": [
        "text_vec_layer=tf.keras.layers.TextVectorization(split=\"character\",standardize=\"lower\")\n",
        "text_vec_layer.adapt([Collection])\n",
        "encoded=text_vec_layer([Collection])[0]"
      ],
      "metadata": {
        "id": "ZuXrMJcV9Z0I",
        "colab": {
          "base_uri": "https://localhost:8080/",
          "height": 198
        },
        "outputId": "5b27f34b-d97c-4a21-8aeb-96ef24d6e1b0"
      },
      "execution_count": null,
      "outputs": [
        {
          "output_type": "error",
          "ename": "NameError",
          "evalue": "ignored",
          "traceback": [
            "\u001b[0;31m---------------------------------------------------------------------------\u001b[0m",
            "\u001b[0;31mNameError\u001b[0m                                 Traceback (most recent call last)",
            "\u001b[0;32m<ipython-input-3-962620135017>\u001b[0m in \u001b[0;36m<module>\u001b[0;34m\u001b[0m\n\u001b[1;32m      1\u001b[0m \u001b[0mtext_vec_layer\u001b[0m\u001b[0;34m=\u001b[0m\u001b[0mtf\u001b[0m\u001b[0;34m.\u001b[0m\u001b[0mkeras\u001b[0m\u001b[0;34m.\u001b[0m\u001b[0mlayers\u001b[0m\u001b[0;34m.\u001b[0m\u001b[0mTextVectorization\u001b[0m\u001b[0;34m(\u001b[0m\u001b[0msplit\u001b[0m\u001b[0;34m=\u001b[0m\u001b[0;34m\"character\"\u001b[0m\u001b[0;34m,\u001b[0m\u001b[0mstandardize\u001b[0m\u001b[0;34m=\u001b[0m\u001b[0;34m\"lower\"\u001b[0m\u001b[0;34m)\u001b[0m\u001b[0;34m\u001b[0m\u001b[0;34m\u001b[0m\u001b[0m\n\u001b[0;32m----> 2\u001b[0;31m \u001b[0mtext_vec_layer\u001b[0m\u001b[0;34m.\u001b[0m\u001b[0madapt\u001b[0m\u001b[0;34m(\u001b[0m\u001b[0;34m[\u001b[0m\u001b[0myo\u001b[0m\u001b[0;34m]\u001b[0m\u001b[0;34m)\u001b[0m\u001b[0;34m\u001b[0m\u001b[0;34m\u001b[0m\u001b[0m\n\u001b[0m\u001b[1;32m      3\u001b[0m \u001b[0mencoded\u001b[0m\u001b[0;34m=\u001b[0m\u001b[0mtext_vec_layer\u001b[0m\u001b[0;34m(\u001b[0m\u001b[0;34m[\u001b[0m\u001b[0myo\u001b[0m\u001b[0;34m]\u001b[0m\u001b[0;34m)\u001b[0m\u001b[0;34m[\u001b[0m\u001b[0;36m0\u001b[0m\u001b[0;34m]\u001b[0m\u001b[0;34m\u001b[0m\u001b[0;34m\u001b[0m\u001b[0m\n",
            "\u001b[0;31mNameError\u001b[0m: name 'yo' is not defined"
          ]
        }
      ]
    },
    {
      "cell_type": "markdown",
      "source": [],
      "metadata": {
        "id": "AgolzAFedd4I"
      }
    },
    {
      "cell_type": "code",
      "source": [
        "encoded-=2\n",
        "n_tokens=text_vec_layer.vocabulary_size()-2\n",
        "dataset_size=len(encoded)"
      ],
      "metadata": {
        "id": "rbRnO3miBeVX"
      },
      "execution_count": null,
      "outputs": []
    },
    {
      "cell_type": "code",
      "source": [
        "print(n_tokens)"
      ],
      "metadata": {
        "colab": {
          "base_uri": "https://localhost:8080/"
        },
        "id": "gvclNaqr5XTk",
        "outputId": "ff6bdd9f-35cd-4ee9-ee00-9de8ad306661"
      },
      "execution_count": null,
      "outputs": [
        {
          "output_type": "stream",
          "name": "stdout",
          "text": [
            "67\n"
          ]
        }
      ]
    },
    {
      "cell_type": "markdown",
      "source": [
        "function to convert a long sequence of character IDs into a dataset of input/target window pairs"
      ],
      "metadata": {
        "id": "sS_9SGii1hCu"
      }
    },
    {
      "cell_type": "code",
      "source": [
        "def to_dataset(sequence, length,shuffle=False, seed=None, batch_size=32):\n",
        "  ds=tf.data.Dataset.from_tensor_slices(sequence)\n",
        "  ds=ds.window(length+1,shift=1,drop_remainder=True)\n",
        "  ds=ds.flat_map(lambda window_ds:window_ds.batch(length+1))\n",
        "  if shuffle:\n",
        "    ds=ds.shuffle(buffer_size=100_000,seed=seed)\n",
        "\n",
        "  ds=ds.batch(batch_size)\n",
        "  return ds.map(lambda window: (window[:,:-1],window[:,1:])).prefetch(1)"
      ],
      "metadata": {
        "id": "ysEj17haD6Dv"
      },
      "execution_count": null,
      "outputs": []
    },
    {
      "cell_type": "markdown",
      "source": [
        "training set and validating set"
      ],
      "metadata": {
        "id": "vpGyiwZ01yoz"
      }
    },
    {
      "cell_type": "code",
      "source": [
        "length=100\n",
        "tf.random.set_seed(42)\n",
        "train_set=to_dataset(encoded[:1_000_000],length=length,shuffle=True,seed=42)\n",
        "valid_set=to_dataset(encoded[1_000_000:1_060_000],length=length)\n",
        "test_set=to_dataset(encoded[1_060_000:],length=length)"
      ],
      "metadata": {
        "id": "NZYiGudwE_ac",
        "colab": {
          "base_uri": "https://localhost:8080/"
        },
        "outputId": "bef51e56-dbde-4bda-f37b-3785dd4f6a44"
      },
      "execution_count": null,
      "outputs": [
        {
          "output_type": "stream",
          "name": "stderr",
          "text": [
            "WARNING:tensorflow:From /usr/local/lib/python3.9/dist-packages/tensorflow/python/autograph/pyct/static_analysis/liveness.py:83: Analyzer.lamba_check (from tensorflow.python.autograph.pyct.static_analysis.liveness) is deprecated and will be removed after 2023-09-23.\n",
            "Instructions for updating:\n",
            "Lambda fuctions will be no more assumed to be used in the statement where they are used, or at least in the same block. https://github.com/tensorflow/tensorflow/issues/56089\n"
          ]
        }
      ]
    }
  ]
}