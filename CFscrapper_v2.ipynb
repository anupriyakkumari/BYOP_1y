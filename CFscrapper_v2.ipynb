{
 "cells": [
  {
   "cell_type": "code",
   "execution_count": 1,
   "id": "551954a7",
   "metadata": {},
   "outputs": [],
   "source": [
    "from bs4 import BeautifulSoup\n",
    "from urllib.request import urlopen\n",
    "import os"
   ]
  },
  {
   "cell_type": "code",
   "execution_count": 2,
   "id": "c9a3f1bb",
   "metadata": {},
   "outputs": [
    {
     "name": "stdout",
     "output_type": "stream",
     "text": [
      "Type Your Handle tourist\n"
     ]
    }
   ],
   "source": [
    "handle = input(\"Type Your Handle \")"
   ]
  },
  {
   "cell_type": "code",
   "execution_count": 3,
   "id": "feedebef",
   "metadata": {},
   "outputs": [],
   "source": [
    "for i in range (1,3):\n",
    "#     print('grabbing data')\n",
    "    gen_url='https://codeforces.com/submissions/'+handle+'/page/'+str(i)\n",
    "#     print(gen_url)\n",
    "    r=urlopen(gen_url)\n",
    "#     print('done')"
   ]
  },
  {
   "cell_type": "code",
   "execution_count": 4,
   "id": "e129a394",
   "metadata": {},
   "outputs": [],
   "source": [
    "problem_id=[]\n",
    "no_name=[]\n",
    "soup=BeautifulSoup(r)\n",
    "co=soup.find_all('td')"
   ]
  },
  {
   "cell_type": "code",
   "execution_count": 5,
   "id": "d54819cd",
   "metadata": {},
   "outputs": [],
   "source": [
    "for row in range(1,len(co)):\n",
    "    if len(co[row].attrs)==4:\n",
    "        if len(co[row].span.attrs)==5:\n",
    "            if co[row].span.attrs['submissionverdict'] == 'OK':\n",
    "                problem_id.append(co[row].span.attrs['submissionid'])\n",
    "                no_name.append(row)"
   ]
  },
  {
   "cell_type": "code",
   "execution_count": 6,
   "id": "9d3f7d92",
   "metadata": {},
   "outputs": [],
   "source": [
    "contest_id = []\n",
    "for j in range(0,len(no_name)):\n",
    "    query = no_name[j]\n",
    "    contest_id.append(co[query-2].a.attrs['href'].split('/')[2])"
   ]
  },
  {
   "cell_type": "code",
   "execution_count": 7,
   "id": "24d4255f",
   "metadata": {},
   "outputs": [],
   "source": [
    "for j in range(0, len(contest_id)):\n",
    "    url = 'http://codeforces.com/contest/'+contest_id[j]+'/submission/'+problem_id[j]\n",
    "    r =urlopen(url)\n",
    "    soup = BeautifulSoup(r)\n",
    "    var = soup.find_all('td')\n",
    "    problem_name = var[2].a['href'].split('/')[4]\n",
    "#     print(var[2].a['href'].split('/')[4])\n",
    "#     print('getting code '+contest_id[j]+'-'+problem_name)\n",
    "    \n",
    "    co=soup.find_all('div')\n",
    "    target=open('combined.txt','a')\n",
    "    \n",
    "    for row in co[3].find_all('pre',attrs={\"class\" : \"program-source\"}):\n",
    "        target.write(row.text+'\\n\\n')\n",
    "        \n",
    "#     print('got code'+contest_id[j]+'-'+problem_name)\n",
    "    target.close()"
   ]
  },
  {
   "cell_type": "code",
   "execution_count": null,
   "id": "bae9e35d",
   "metadata": {},
   "outputs": [],
   "source": []
  },
  {
   "cell_type": "code",
   "execution_count": null,
   "id": "788f7f12",
   "metadata": {},
   "outputs": [],
   "source": []
  }
 ],
 "metadata": {
  "kernelspec": {
   "display_name": "Python 3 (ipykernel)",
   "language": "python",
   "name": "python3"
  },
  "language_info": {
   "codemirror_mode": {
    "name": "ipython",
    "version": 3
   },
   "file_extension": ".py",
   "mimetype": "text/x-python",
   "name": "python",
   "nbconvert_exporter": "python",
   "pygments_lexer": "ipython3",
   "version": "3.11.2"
  }
 },
 "nbformat": 4,
 "nbformat_minor": 5
}
